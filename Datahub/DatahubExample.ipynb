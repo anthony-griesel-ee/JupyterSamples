{
 "cells": [
  {
   "cell_type": "markdown",
   "metadata": {},
   "source": [
    "### Introduction to Datahub\n",
    "Energy Exemplar Datahub aims to be a robust storage solution that supports access control and versioning capability and can be used for any customer data. A robust change tracking mechanism means only deltas are synced resulting in less bandwidth used compared to uploading whole files. \n",
    "Datahub allows for individual files to be uploaded, downloaded, searched for, deleted and un-deleted or entire directory structures to be syncronized between desktop and cloud. \n",
    "\n",
    "### Covered in this Example\n",
    "1. Python libraries, environment variables and SDK setup\n",
    "2. Setting SDK/CLI Environment\n",
    "3. Authentication (SSO)\n",
    "4. Authentication (Service Principal)\n",
    "5. Configure Datahub Sync directory\n",
    "6. Unmapping Datahub Sync directory\n",
    "7. Syncing a mapped directory\n",
    "8. Uploading files\n",
    "9. Downloading files\n",
    "10. Using a manifest file to download files\n",
    "11. Searching for files\n",
    "12. Reverting changes to files\n",
    "13. Deleting files\n",
    "14. UnDelete files\n"
   ]
  },
  {
   "cell_type": "code",
   "execution_count": null,
   "metadata": {},
   "outputs": [],
   "source": [
    "import os\n",
    "import sys\n",
    "from eecloud.cloudsdk import CloudSDK, SDKBase\n",
    "from eecloud.models import *"
   ]
  },
  {
   "cell_type": "markdown",
   "metadata": {},
   "source": [
    "#### Setup Variables"
   ]
  },
  {
   "cell_type": "code",
   "execution_count": null,
   "metadata": {},
   "outputs": [],
   "source": [
    "# For client credential flow\n",
    "#------------------------------\n",
    "tenant_id = 'TENANT_ID'\n",
    "client_id = 'CLIENT_ID'\n",
    "client_secret = 'SECRET'\n",
    "#------------------------------\n",
    "repo_name = \"JupyterSamples\"\n",
    "jupyter_user = os.environ.get(\"JUPYTERHUB_USER\")\n",
    "cli_path: str = \"/usr/local/bin/plexos-cloud\"\n",
    "environment: str = \"PreProd\"\n",
    "local_map_folder: str = \"./MappedFolder/\"\n",
    "datahub_mapped_folder: str = f\"{repo_name}/{jupyter_user}_sync\"\n",
    "\n",
    "working_folder: str = \"./WorkingFolder/\"\n",
    "datahub_working_folder: str = f\"{repo_name}/{jupyter_user}_work\""
   ]
  },
  {
   "cell_type": "markdown",
   "metadata": {},
   "source": [
    "#### Set the CLI client from the default installation path (Windows Only)"
   ]
  },
  {
   "cell_type": "code",
   "execution_count": null,
   "metadata": {},
   "outputs": [],
   "source": [
    "pxc = CloudSDK()"
   ]
  },
  {
   "cell_type": "markdown",
   "metadata": {},
   "source": [
    "#### Set the CLI client from a custom location (Windows & Linux)"
   ]
  },
  {
   "cell_type": "code",
   "execution_count": null,
   "metadata": {},
   "outputs": [],
   "source": [
    "pxc = CloudSDK(cli_path)"
   ]
  },
  {
   "cell_type": "markdown",
   "metadata": {},
   "source": [
    "#### Set Environment"
   ]
  },
  {
   "cell_type": "code",
   "execution_count": null,
   "metadata": {},
   "outputs": [],
   "source": [
    "try:\n",
    "    env_response: list[CommandResponse[Contracts_EnvironmentResponse]] = pxc.environment.set_user_environment(environment)\n",
    "    env_data: Contracts_EnvironmentResponse = SDKBase.get_response_data(env_response)\n",
    "\n",
    "    print(f\"Selected Environment: {env_data.Environment}\")\n",
    "    \n",
    "except Exception as ex:\n",
    "    print(ex)"
   ]
  },
  {
   "cell_type": "markdown",
   "metadata": {
    "jp-MarkdownHeadingCollapsed": true
   },
   "source": [
    "#### Login with SSO (Windows only)"
   ]
  },
  {
   "cell_type": "code",
   "execution_count": null,
   "metadata": {},
   "outputs": [],
   "source": [
    "#try:\n",
    "#    login_response: list[CommandResponse[Contracts_LoginResponse]] = pxc.auth.login()\n",
    "#    login_data: Contracts_LoginResponse = SDKBase.get_response_data(login_response)\n",
    "#    print(f\"Tenant: {login_data.TenantName}, User: {login_data.UserName}\")\n",
    "#except Exception as ex:\n",
    "#    print(ex)"
   ]
  },
  {
   "cell_type": "markdown",
   "metadata": {},
   "source": [
    "### Login with Client Credentials"
   ]
  },
  {
   "cell_type": "code",
   "execution_count": null,
   "metadata": {},
   "outputs": [],
   "source": [
    "try:\n",
    "    login_response: list[CommandResponse[Contracts_LoginResponse]] = pxc.auth.login_client_credentials(use_client_credentials=True, client_id=client_id, client_secret=client_secret, tenant_id=tenant_id)\n",
    "    login_data: Contracts_LoginResponse = SDKBase.get_response_data(login_response)\n",
    "\n",
    "    print(f\"Tenant: {login_data.TenantName}, User: {login_data.UserName}\")\n",
    "    \n",
    "except Exception as ex:\n",
    "    print(ex)"
   ]
  },
  {
   "cell_type": "markdown",
   "metadata": {},
   "source": [
    "#### Map a Local folder to a remote Datahub folder\n",
    "Note: The folder must be initially empty or files may get overwritten from the server at first sync"
   ]
  },
  {
   "cell_type": "code",
   "execution_count": null,
   "metadata": {},
   "outputs": [],
   "source": [
    "try:\n",
    "    map_response: list[CommandResponse[Contracts_DatahubMapResponse]] = pxc.datahub.map_folder(local_map_folder, datahub_mapped_folder, print_message=True)\n",
    "    map_data: Contracts_DatahubMapResponse = SDKBase.get_response_data(map_response)\n",
    "\n",
    "    if map_data is not None:\n",
    "        print(f\"Map success: {map_data.Success}, Local Path: {map_data.LocalPath}, Remote Path: {map_data.RemotePath}, Patterns: {map_data.Patterns}\")\n",
    "    else:\n",
    "        print(f\"Mapping already exists!\")\n",
    "        \n",
    "except Exception as ex:\n",
    "    print(ex)"
   ]
  },
  {
   "cell_type": "markdown",
   "metadata": {},
   "source": [
    "#### Unmap a folder"
   ]
  },
  {
   "cell_type": "code",
   "execution_count": null,
   "metadata": {},
   "outputs": [],
   "source": [
    "try:\n",
    "    unmap_response: list[CommandResponse[Contracts_DatahubUnDeleteResponse]] = pxc.datahub.unmap_folder(local_map_folder, print_message=True)\n",
    "    unmap_data: Contracts_DatahubUnDeleteResponse = SDKBase.get_response_data(unmap_response)\n",
    "\n",
    "    if unmap_data is not None:\n",
    "        print(f\"Success: {unmap_data.Success}\")\n",
    "    else:\n",
    "        print(\"There is nothing to unmap at for this path!\")\n",
    "\n",
    "except Exception as ex:\n",
    "    print(ex)"
   ]
  },
  {
   "cell_type": "markdown",
   "metadata": {},
   "source": [
    "#### Sync a specific mapped folder\n",
    "You can setup extra options:\n",
    "- Verify downloads: \n",
    "    - Build the signature of the downloaded file and compares it to the server to check for data integrity (takes longer).\n",
    "- Replace local files on conflicts:\n",
    "    - If the local files are out of sync with the server and there is more that one version of difference, then this option will force the server version and overwrite your local files. \n",
    "\n",
    "```\n",
    "In the case of a conflict and the \"replace_local_files_on_conflict is set to False\", \n",
    "then a \".conflict\" file is downloaded locally and your local file is left untouched but not synched to the server.\n",
    "You will have to use a compare tool locally (like Windiff or Winmerge), \n",
    "fix the differences in your file, then use the **Upload command** to send your file to the server, then run a Sync again. \n",
    "```"
   ]
  },
  {
   "cell_type": "code",
   "execution_count": null,
   "metadata": {},
   "outputs": [],
   "source": [
    "try:\n",
    "    sync_response: list[CommandResponse[Contracts_DatahubCommandResponse]] = pxc.datahub.sync(local_path_to_sync=local_map_folder, print_message=True)\n",
    "    sync_data: Contracts_DatahubCommandResponse = SDKBase.get_response_data(sync_response)\n",
    "\n",
    "    if sync_data is not None:\n",
    "        print(f\"Success:{sync_data.DatahubCommandStatus.value}\")\n",
    "\n",
    "        for result in sync_data.DatahubResourceResults:\n",
    "            print(f\"Local Path: {result.LocalFilePath}, Datahub Path: {result.RelativeFilePath}, Failure Reason: {result.FailureReason}\")\n",
    "    else:\n",
    "        print(\"No changes were found\")\n",
    "\n",
    "except Exception as ex:\n",
    "    print(ex)"
   ]
  },
  {
   "cell_type": "markdown",
   "metadata": {},
   "source": [
    "#### Upload (Independent of mappings and sync)\n",
    "- In the case Datahub already contains the file being uploaded, it will attempt to perform an update\n",
    "    - if the file is identical:\n",
    "        - it will return an error and skip the upload\n",
    "        - if the file is deleted on Datahub, it will undelete the file\n",
    "    - if the file is different:\n",
    "        - For versioned file: \n",
    "            - it will create a new version\n",
    "            - if the file is deleted, it will undelete the file and create a new version\n",
    "        - For an un-versioned file: it will overwrite the file"
   ]
  },
  {
   "cell_type": "code",
   "execution_count": null,
   "metadata": {},
   "outputs": [],
   "source": [
    "try:\n",
    "    glob_pattern_1: str = \"*.parquet\"\n",
    "    glob_pattern_2: str = \"*.csv\"\n",
    "    \n",
    "    upload_response: list[CommandResponse[Contracts_DatahubCommandResponse]] = pxc.datahub.upload(local_folder=working_folder, remote_folder=datahub_working_folder, glob_patterns= [glob_pattern_1, glob_pattern_2], is_versioned=True, print_message=True)\n",
    "    upload_data: Contracts_DatahubCommandResponse = SDKBase.get_response_data(upload_response)\n",
    "\n",
    "    if upload_data is not None:\n",
    "        for result in upload_data.DatahubResourceResults:\n",
    "            print(f\"Status: {result.Success}, Local File: {result.LocalFilePath}, Remote Destination: {result.RelativeFilePath}, Failure Reason: {result.FailureReason}\")\n",
    "    else:\n",
    "        raise Exception(\"Empty response!\")\n",
    "            \n",
    "except Exception as ex:\n",
    "    print(ex)"
   ]
  },
  {
   "cell_type": "markdown",
   "metadata": {},
   "source": [
    "Download (Independent of mappings and sync)"
   ]
  },
  {
   "cell_type": "code",
   "execution_count": null,
   "metadata": {},
   "outputs": [],
   "source": [
    "try:\n",
    "    glob_pattern_1: str = f\"{datahub_working_folder}/**\"\n",
    "    download_response: list[CommandResponse[Contracts_DatahubCommandResponse]] = pxc.datahub.download(remote_glob_patterns=[glob_pattern_1], output_directory=working_folder, print_message=False)\n",
    "    download_data: Contracts_DatahubCommandResponse = SDKBase.get_response_data(download_response)\n",
    "    \n",
    "    if download_data is not None:\n",
    "        for result in download_data.DatahubResourceResults:\n",
    "            print(f\"Success: {result.Success}, Local File: {result.LocalFilePath}, Remote Source: {result.RelativeFilePath}, Version: {result.Version}, Failure Reason: {result.FailureReason}\")\n",
    "    else:\n",
    "        raise Exception(\"Empty response!\")\n",
    "    \n",
    "except Exception as ex:\n",
    "    print(ex)\n"
   ]
  },
  {
   "cell_type": "markdown",
   "metadata": {},
   "source": [
    "#### Download using a Manifest file (independant of mappings and sync)"
   ]
  },
  {
   "cell_type": "code",
   "execution_count": null,
   "metadata": {},
   "outputs": [],
   "source": [
    "try:\n",
    "    file_manifest: str = \"./manifest_example.csv\"\n",
    "    download_response_with_manifest: list[CommandResponse[Contracts_DatahubCommandResponse]] = pxc.datahub.download(manifest_file_path=file_manifest, create_metadata_file=True, print_message=False)\n",
    "    download_data_with_manifest: Contracts_DatahubCommandResponse = SDKBase.get_response_data(download_response_with_manifest)\n",
    "    \n",
    "    if download_data_with_manifest is not None:\n",
    "        for result in download_data_with_manifest.DatahubResourceResults:\n",
    "            print(f\"Success: {result.Success}, Local File: {result.LocalFilePath}, Remote Source: {result.RelativeFilePath}, Version: {result.Version}, Failure Reason: {result.FailureReason}\")    \n",
    "    else:\n",
    "        raise Exception(\"Empty response!\") \n",
    "\n",
    "except Exception as ex:\n",
    "    print(ex)\n"
   ]
  },
  {
   "cell_type": "markdown",
   "metadata": {},
   "source": [
    "#### Search"
   ]
  },
  {
   "cell_type": "code",
   "execution_count": null,
   "metadata": {},
   "outputs": [],
   "source": [
    "glob_pattern_1: str= f\"{repo_name}/{jupyter_user}*/**\"\n",
    "try:\n",
    "    search_response: list[CommandResponse[Contracts_DatahubSearchResponse]] = pxc.datahub.search(glob_patterns=[glob_pattern_1], print_message=True)\n",
    "    search_data: Contracts_DatahubSearchResponse = SDKBase.get_response_data(search_response)\n",
    "    \n",
    "    if search_data is not None:\n",
    "        results: list[Datahub_DatahubResourceInfo] = search_data.DatahubSearchResults #this step is necessary if your want to be able to deserialize the results\n",
    "        for result in results:\n",
    "            if not result.IsDeleted:\n",
    "                print(f\"{result.RelativePath}, Version: {result.Versions}, IsVersioned: {result.IsVersioned}\")\n",
    "    else:\n",
    "        raise Exception(\"Empty response!\") \n",
    "            \n",
    "except Exception as ex:\n",
    "    print(ex)"
   ]
  },
  {
   "cell_type": "markdown",
   "metadata": {},
   "source": [
    "#### Revert the version of a mapped file to a prior version\n",
    "NOTE: This will revert a locally mapped file to a prior version. It won't change anything on the server side until the files is synced again.\n",
    "The local file will be overwritten!!!"
   ]
  },
  {
   "cell_type": "code",
   "execution_count": null,
   "metadata": {},
   "outputs": [],
   "source": [
    "try:\n",
    "    target_version: int = 0\n",
    "    local_mapped_file_path = \"./WorkingFolder/solution_data.csv\"\n",
    "    \n",
    "    revert_response: list[CommandResponse[Contracts_DatahubCommandResponse]] = pxc.datahub.revert(file_revert_path=local_mapped_file_path, version=target_version)\n",
    "    revert_data: Contracts_DatahubCommandResponse = SDKBase.get_response_data(revert_response)\n",
    "\n",
    "    if revert_data is not None:\n",
    "        print(f\"{revert_data.DatahubCommandStatus}\")\n",
    "    else:\n",
    "        raise Exception(\"Empty response!\") \n",
    "        \n",
    "except Exception as ex:\n",
    "    print(ex)"
   ]
  },
  {
   "cell_type": "markdown",
   "metadata": {},
   "source": [
    "#### Delete\n",
    "- Un-versioned files => Hard delete\n",
    "- Versioned files => Soft delete (possibility of un-delete)\n",
    "\n",
    "Note: The deletion command will return an instant response (eventual consistency), but depending on the number of files to delete, it will get processed on the server and may take some time."
   ]
  },
  {
   "cell_type": "code",
   "execution_count": null,
   "metadata": {},
   "outputs": [],
   "source": [
    "try:\n",
    "    glob_pattern_1: str= f\"{datahub_working_folder}/*.csv\"\n",
    "    delete_response: list[CommandResponse[Contracts_DatahubDeleteResponse]] = pxc.datahub.delete(remote_glob_patterns=[glob_pattern_1])\n",
    "    delete_data: Contracts_DatahubDeleteResponse = SDKBase.get_response_data(delete_response)\n",
    "    \n",
    "    if delete_data is not None:\n",
    "        print(f\"Success: {delete_data.Success}\")\n",
    "    else:\n",
    "        raise Exception(\"Empty response!\") \n",
    "        \n",
    "except Exception as ex:\n",
    "    print(ex)"
   ]
  },
  {
   "cell_type": "markdown",
   "metadata": {},
   "source": [
    "#### Undelete (Only for Versioned files)"
   ]
  },
  {
   "cell_type": "code",
   "execution_count": null,
   "metadata": {},
   "outputs": [],
   "source": [
    "try:\n",
    "    glob_pattern_1: str= f\"{datahub_working_folder}/*.csv\"\n",
    "    undelete_response: list[CommandResponse[Contracts_DatahubUnDeleteResponse]] = pxc.datahub.undelete(glob_patterns=[glob_pattern_1])\n",
    "    undelete_data: Contracts_DatahubUnDeleteResponse = SDKBase.get_response_data(undelete_response)\n",
    "    \n",
    "    if undelete_data is not None:\n",
    "        print(f\"Success: {undelete_data.Success}\")\n",
    "    else:\n",
    "        raise Exception(\"Empty response!\") \n",
    "        \n",
    "except Exception as ex:\n",
    "    print(ex)"
   ]
  }
 ],
 "metadata": {
  "kernelspec": {
   "display_name": "Python 3 (ipykernel)",
   "language": "python",
   "name": "python3"
  },
  "language_info": {
   "codemirror_mode": {
    "name": "ipython",
    "version": 3
   },
   "file_extension": ".py",
   "mimetype": "text/x-python",
   "name": "python",
   "nbconvert_exporter": "python",
   "pygments_lexer": "ipython3",
   "version": "3.12.6"
  }
 },
 "nbformat": 4,
 "nbformat_minor": 4
}
