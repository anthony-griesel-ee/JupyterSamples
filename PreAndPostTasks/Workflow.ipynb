{
 "cells": [
  {
   "cell_type": "markdown",
   "metadata": {},
   "source": [
    "#### Instantiate the Python SDK client, Setup variables."
   ]
  },
  {
   "cell_type": "code",
   "execution_count": 5,
   "metadata": {
    "dotnet_interactive": {
     "language": "csharp"
    },
    "polyglot_notebook": {
     "kernelName": "csharp"
    }
   },
   "outputs": [
    {
     "name": "stdout",
     "output_type": "stream",
     "text": [
      "Python Path: /opt/tljh/user/bin/python\n",
      "Selected CLI: /srv/cli/plexos-cloud\n"
     ]
    }
   ],
   "source": [
    "import os\n",
    "import sys\n",
    "import utilities\n",
    "from IPython.display import Image, display\n",
    "from eecloud.cloudsdk import CloudSDK, SDKBase\n",
    "from eecloud.models import *\n",
    "\n",
    "root_path = os.environ.get(\"HOME\")\n",
    "jupyter_user = os.environ.get(\"JUPYTERHUB_USER\")\n",
    "project_root = local_path = os.path.join(root_path, \"JupyterSamples\", \"PreAndPostTasks\")\n",
    "\n",
    "local_path = os.path.join(project_root, \"Scripts\") \n",
    "datahub_path = f\"JupyterSamples/{jupyter_user}\"\n",
    "simulation_body = os.path.join(local_path, \"simulation_body.json\")\n",
    "\n",
    "solution_download_directory = os.path.join(project_root, \"Downloads\")\n",
    "cli_path = os.environ.get(\"cloud_cli_path\")\n",
    "environment: str = \"Aquila\"\n",
    "\n",
    "if environment is None:\n",
    "    raise Exception(\"environment value must be configured\")\n",
    "\n",
    "print(f\"Python Path: {sys.executable}\")\n",
    "pxc = CloudSDK(cli_path=\"/srv/cli/plexos-cloud\") # I will spend more time setting environment variables on JupyterHub to make this simpler"
   ]
  },
  {
   "cell_type": "markdown",
   "metadata": {},
   "source": [
    "#### Set Environment"
   ]
  },
  {
   "cell_type": "code",
   "execution_count": 6,
   "metadata": {},
   "outputs": [
    {
     "name": "stdout",
     "output_type": "stream",
     "text": [
      "Aquila selected, please authenticate\n"
     ]
    }
   ],
   "source": [
    "try:\n",
    "    environment_response = pxc.environment.set_user_environment(environment, print_message=False)\n",
    "    environment_data = pxc.environment.get_final_response(environment_response)\n",
    "    print(f\"{environment_data.EventData.Environment} selected, please authenticate\")\n",
    "except Exception as ex:\n",
    "    print(ex)"
   ]
  },
  {
   "cell_type": "markdown",
   "metadata": {},
   "source": [
    "#### Login to PLEXOS Cloud using SSO - This will only work locally not on Hub"
   ]
  },
  {
   "cell_type": "code",
   "execution_count": 3,
   "metadata": {},
   "outputs": [
    {
     "name": "stdout",
     "output_type": "stream",
     "text": [
      "Anthony Griesel (EE Tenant) logged into Aquila\n"
     ]
    }
   ],
   "source": [
    "try:\n",
    "    login_response = pxc.auth.login(print_message=False)\n",
    "    login_data = pxc.auth.get_final_response(login_response)\n",
    "    print(f\"{login_data.EventData.UserName} ({login_data.EventData.TenantName}) logged into {login_data.EventData.Environment}\")\n",
    "except Exception as ex:\n",
    "    print(ex)"
   ]
  },
  {
   "cell_type": "markdown",
   "metadata": {},
   "source": [
    "#### Login to PLEXOS Cloud using Client credentials"
   ]
  },
  {
   "cell_type": "code",
   "execution_count": 7,
   "metadata": {},
   "outputs": [
    {
     "name": "stdout",
     "output_type": "stream",
     "text": [
      "EE Tenant logged into Aquila\n"
     ]
    }
   ],
   "source": [
    "ee_tenant_id = 'd469f645-ff96-4d9d-9879-09cb1f87b3d7'\n",
    "ee_client_id = '0ce43afb-e94a-4ef5-bb06-ce70b8d71361'\n",
    "ee_client_secret = 'DXIFZHAdnRaKi54Tq/psnyWEbToUq/Yn6A3Uf/WLV0g='\n",
    "\n",
    "try:\n",
    "    command_responses = pxc.auth.login_client_credentials(tenant_id=ee_tenant_id, client_id=ee_client_id, client_secret=ee_client_secret, use_client_credentials=True, print_message=False)\n",
    "    last_command_response: CommandResponse[Contracts_LoginResponse] = pxc.auth.get_final_response(command_responses)\n",
    "    if last_command_response is not None and last_command_response.Status == \"Success\":\n",
    "        data: Contracts_LoginResponse = last_command_response.EventData\n",
    "        print(f\"{data.TenantName} logged into {data.Environment}\")\n",
    "    else:\n",
    "        print(f\"Failure to login: {last_command_response.Message}\")\n",
    "except Exception as ex:\n",
    "    print(ex)"
   ]
  },
  {
   "cell_type": "markdown",
   "metadata": {},
   "source": [
    "#### Setup Datahub to local folder sync"
   ]
  },
  {
   "cell_type": "code",
   "execution_count": 4,
   "metadata": {},
   "outputs": [
    {
     "name": "stdout",
     "output_type": "stream",
     "text": [
      "Attempting to map local path: /home/jupyter-anthony.griesel/JupyterSamples/PreAndPostTasks/Scripts to JupyterSamples/anthony.griesel on Datahub\n",
      "/home/jupyter-anthony.griesel/JupyterSamples/PreAndPostTasks/Scripts mapped to JupyterSamples/anthony.griesel on Datahub\n"
     ]
    }
   ],
   "source": [
    "try:\n",
    "    print(f\"Attempting to map local path: {local_path} to {datahub_path} on Datahub\")\n",
    "    command_responses = pxc.datahub.map_folder(local_path, datahub_path, print_message=False)\n",
    "    last_command_response: CommandResponse[Contracts_DatahubMapResponse] = pxc.datahub.get_final_response(command_responses)\n",
    "    if last_command_response is not None and last_command_response.Status == \"Success\":\n",
    "        data: Contracts_DatahubMapResponse = last_command_response.EventData\n",
    "        print(f\"{data.LocalPath} mapped to {data.RemotePath} on Datahub\")\n",
    "    elif last_command_response is not None:\n",
    "        print(last_command_response.Message)\n",
    "except Exception as ex:\n",
    "    print(ex)"
   ]
  },
  {
   "cell_type": "markdown",
   "metadata": {},
   "source": [
    "#### Sync data in between mapped local folder and Datahub"
   ]
  },
  {
   "cell_type": "code",
   "execution_count": 8,
   "metadata": {},
   "outputs": [
    {
     "name": "stdout",
     "output_type": "stream",
     "text": [
      "Failed JupyterSamples/anthony.griesel/.ipynb_checkpoints/requirements-checkpoint.txt - Status - BadRequest,Bad Request,{\"type\":\"https://portal.energyexemplar.com/unified-help/plexos-cloud/#t=Troubleshooting%2FCloud_Errors.htm\",\"title\":\"GeneralValidationError\",\"detail\":\"Invalid or missing param.\",\"errorCode\":\"CE40003\",\"additionalMessages\":[\"The session 0ebd2924-2b7c-4c0f-870f-5a85df207307 is invalid\"],\"traceId\":\"0HNB75UTFGVNF:0000001B\"}\n",
      "Failed JupyterSamples/anthony.griesel/.ipynb_checkpoints/query_write_memberships-checkpoint.py - Status - BadRequest,Bad Request,{\"type\":\"https://portal.energyexemplar.com/unified-help/plexos-cloud/#t=Troubleshooting%2FCloud_Errors.htm\",\"title\":\"GeneralValidationError\",\"detail\":\"Invalid or missing param.\",\"errorCode\":\"CE40003\",\"additionalMessages\":[\"The session c8651596-a69d-426c-a239-500d402d3afc is invalid\"],\"traceId\":\"0HNB75UTFGVNF:00000021\"}\n"
     ]
    }
   ],
   "source": [
    "try:\n",
    "    command_responses = pxc.datahub.sync(local_path_to_sync=local_path, verify_downloads=False, replace_local_files_on_conflict=True, print_message=False)\n",
    "    last_command_response: CommandResponse[Contracts_DatahubCommandResponse] = pxc.datahub.get_final_response(command_responses)\n",
    "    if last_command_response is not None and last_command_response.Status == \"Success\":\n",
    "        data: Contracts_DatahubCommandResponse = last_command_response.EventData\n",
    "    \n",
    "        if len(data.DatahubResourceResults) == 0:\n",
    "            print(\"No changes found\")\n",
    "    \n",
    "        for item in data.DatahubResourceResults:\n",
    "            if item.Success == True:\n",
    "                print(item.RelativeFilePath)\n",
    "            elif \"Skipping upload\" in item.FailureReason:\n",
    "                print(f\"Skipped: {item.RelativeFilePath} - Identical\")\n",
    "            else:\n",
    "                print(f\"Failed {item.RelativeFilePath} - {item.FailureReason}\")\n",
    "    else:\n",
    "        print(\"Failed to sync data between local and remote filesystems\")\n",
    "except Exception as ex:\n",
    "    print(ex)"
   ]
  },
  {
   "cell_type": "markdown",
   "metadata": {},
   "source": [
    "#### List Datahub files"
   ]
  },
  {
   "cell_type": "code",
   "execution_count": 5,
   "metadata": {},
   "outputs": [
    {
     "name": "stdout",
     "output_type": "stream",
     "text": [
      "JupyterSamples/anthony.griesel/configure_duck.py - Total Versions: 1 : Latest Version: 0\n",
      "JupyterSamples/anthony.griesel/directorymapping_example.json - Total Versions: 1 : Latest Version: 0\n",
      "JupyterSamples/anthony.griesel/query_write_memberships.py - Total Versions: 1 : Latest Version: 0\n",
      "JupyterSamples/anthony.griesel/requirements.txt - Total Versions: 1 : Latest Version: 0\n",
      "JupyterSamples/anthony.griesel/clean_workflow_files.py - Total Versions: 1 : Latest Version: 0\n",
      "JupyterSamples/anthony.griesel/manage_datahub_files.py - Total Versions: 1 : Latest Version: 0\n",
      "JupyterSamples/anthony.griesel/simulation_body.json - Total Versions: 4 : Latest Version: 3\n",
      "JupyterSamples/anthony.griesel/query_data.py - Total Versions: 2 : Latest Version: 1\n",
      "JupyterSamples/anthony.griesel/.ipynb_checkpoints/simulation_body-checkpoint.json - Total Versions: 3 : Latest Version: 2\n",
      "JupyterSamples/anthony.griesel/.ipynb_checkpoints/query_data-checkpoint.py - Total Versions: 1 : Latest Version: 0\n"
     ]
    }
   ],
   "source": [
    "try:\n",
    "    search_response: list[CommandResponse[Contracts_DatahubSearchResponse]] = pxc.datahub.search([f\"{datahub_path}/**\"], print_message=False)\n",
    "    search_data: Contracts_DatahubSearchResponse = pxc.datahub.get_final_response(search_response)\n",
    "\n",
    "    for item in search_data.EventData.DatahubSearchResults:\n",
    "        if item.IsDeleted == False:\n",
    "            print(f\"{item.RelativePath} - Total Versions: {len(item.Versions)} : Latest Version: {item.LatestServerVersion}\")\n",
    "except Exception as ex:\n",
    "    print(ex)"
   ]
  },
  {
   "cell_type": "markdown",
   "metadata": {},
   "source": [
    "#### Define Tasks in Simulation Payload\n",
    "\n",
    "Manually update the [simulation_body.json](Scripts/simulation_body.json) located in the Scripts directory. The following must be updated\n",
    "- StudyId\n",
    "- ChangesetId\n",
    "- Models\n",
    "- SimulationData\n",
    "- SimulationEngine\n",
    "- The tasks under SimulationTasks must be updated to include your Datahub path names. Documentation here: [Task Documentation](https://portal.energyexemplar.com/unified-help/plexos-cloud/#t=Simulations%2FPre-_and_Post-Simulation_Tasks.htm&rhsearch=pre%20and%20post&ux=search) \n",
    "  - TaskType: - Pre or Post\n",
    "  - Files: Datahub Path and Version\n",
    "  - Arguments: If python script needs to be executed, the arguments must contain \"python3 yourscript.py\"\n",
    "\n",
    "*** If new scripts are added, the sync process must be run again. \n"
   ]
  },
  {
   "cell_type": "markdown",
   "metadata": {},
   "source": [
    "```json\n",
    "...\n",
    "{\n",
    "    \"Name\": \"TASK NAME\",\n",
    "    \"TaskType\": \"Pre\",\n",
    "    \"Files\": [\n",
    "        {\n",
    "            \"Path\": \"JupyterSamples/<user.name>/query_write_memberships.py\",\n",
    "            \"Version\": null\n",
    "        },\n",
    "        {\n",
    "            \"Path\": \"JupyterSamples/<user.name>/requirements.txt\",\n",
    "            \"Version\": 1\n",
    "        }\n",
    "    ],\n",
    "    \"Arguments\": \"python3 query_write_memberships.py\",\n",
    "    \"ContinueOnError\": true,\n",
    "    \"ExecutionOrder\": 1\n",
    "}\n",
    "...\n",
    "\n",
    "```"
   ]
  },
  {
   "cell_type": "markdown",
   "metadata": {},
   "source": [
    "#### Enqueue Simulation, Wait for Completion. Download Results"
   ]
  },
  {
   "cell_type": "code",
   "execution_count": 17,
   "metadata": {},
   "outputs": [
    {
     "name": "stdout",
     "output_type": "stream",
     "text": [
      "Simulation: 412fdad8-d55b-4289-9f3d-9880be256d70 enqueued\n",
      "\n",
      "Queued...\n",
      "PreProcessing......\n",
      "Running...\n",
      "Postprocessing...\n",
      "CompletedSuccessDone: CompletedSuccess\n",
      "Simulation complete. CompletedSuccess Downloading artifacts for solution: c2ecd76f-07c6-4bfc-90a7-57a1ae87d5e4\n",
      "Contracts_Simulation(SimulationType='None', Id=GuidValue(Value='c17344a5-21a1-4122-a25f-1e44efa49839'), ExecutionId=GuidValue(Value='0eedbf18-9eb0-49b4-9b78-d6a0e6b0c93f'), StudyId=GuidValue(Value='88b28ec1-2036-4fde-bad0-180406be58b5'), ChangeSetId=GuidValue(Value='407b542e-0867-48ef-af55-44298b1aa6f5'), CreatedByUser=Contracts_User(Name=None, EmailAddress=None, Id='0ce43afb-e94a-4ef5-bb06-ce70b8d71361'), Source='Jupyter', RequestedCpuCores=2, MinimumMemoryInGb=16.0, CreatedAt='2025-03-19T23:57:13.4750037+00:00', LastUpdatedAt='2025-03-19T23:59:18.0024721+00:00', Models=['No Carbon Price or Flow Constraint'], Status='CompletedSuccess', ModelIdentifiers=[Contracts_ModelIdentifier(Id='c2ecd76f-07c6-4bfc-90a7-57a1ae87d5e4', Name='Model No Carbon Price or Flow Constraint Solution')], SimulationEngine=Contracts_SimulationEngine(EngineId='0c3d332e-b2fa-4003-9e97-ea3cdce27324', Version='11.000.002.25031835', Name='NB-P11.000.002.25031835 Mar193eb1', EngineType='Performance', OptimizationEngine='Plexos'), RetryCount=0, Retries=[], ParallelizationOptions=Contracts_ParallelizationOptions(RequestedCpuCores=0, MinimumMemoryInGb=0.0, InstanceCount=1, Index=None, IsAutoStitchEnabled=False, SplitOptions=None))\n",
      "Solution data downloaded\n",
      "Solution data downloaded to /home/jupyter-anthony.griesel/JupyterSamples/PreAndPostTasks/Downloads\n"
     ]
    }
   ],
   "source": [
    "try:\n",
    "    enqueue_response = pxc.simulation.enqueue_simulation(simulation_body, print_message=False)\n",
    "    enqueue_data : Contracts_EnqueueSimulationResponse = pxc.simulation.get_final_response(enqueue_response)\n",
    "    simulation = enqueue_data.EventData.SimulationStarted[0]\n",
    "\n",
    "    simulation_id = simulation.Id.Value\n",
    "    execution_id = simulation.ExecutionId.Value\n",
    "\n",
    "    print(f\"Simulation: {simulation_id} enqueued\")\n",
    "\n",
    "    utilities.wait_simulation_finish(pxc, simulation_id)\n",
    "    simulation_result = utilities.get_simulation(pxc, simulation_id=\"c17344a5-21a1-4122-a25f-1e44efa49839\")\n",
    "\n",
    "    #optionally if multiple simulations were enqueued we can wait for all executions to finish \n",
    "    #execution_result = utilities.get_executions(pxc, execution_id=simulation_result.ExecutionId.Value)\n",
    "    #execution_result = utilities.wait_execution_finish(pxc, execution_id=simulation_result.ExecutionId.Value)\n",
    "\n",
    "    if simulation_result.Status in ['CompletedSuccess']:\n",
    "        solution_id = simulation_result.ModelIdentifiers[0].Id\n",
    "        print(f\"Simulation complete. {simulation_result.Status} Downloading artifacts for solution: {solution_id}\")       \n",
    "        utilities.download_solution_data(pxc, solution_id , solution_download_directory)\n",
    "        print(f\"Solution data downloaded to {solution_download_directory}\")\n",
    "    else:\n",
    "        print(f\"Simulation finished: {simulation_result.Status} - Possible failure\")\n",
    "except Exception as ex:\n",
    "    print(ex)\n",
    "    "
   ]
  },
  {
   "cell_type": "code",
   "execution_count": null,
   "metadata": {},
   "outputs": [],
   "source": []
  }
 ],
 "metadata": {
  "kernelspec": {
   "display_name": "Python 3 (ipykernel)",
   "language": "python",
   "name": "python3"
  },
  "language_info": {
   "codemirror_mode": {
    "name": "ipython",
    "version": 3
   },
   "file_extension": ".py",
   "mimetype": "text/x-python",
   "name": "python",
   "nbconvert_exporter": "python",
   "pygments_lexer": "ipython3",
   "version": "3.12.6"
  },
  "polyglot_notebook": {
   "kernelInfo": {
    "defaultKernelName": "csharp",
    "items": [
     {
      "aliases": [],
      "name": "csharp"
     }
    ]
   }
  }
 },
 "nbformat": 4,
 "nbformat_minor": 4
}
