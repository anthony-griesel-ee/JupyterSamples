{
 "cells": [
  {
   "cell_type": "markdown",
   "id": "14a6de0d-4e36-44c7-a247-3d8e29e3d5c9",
   "metadata": {},
   "source": [
    "### Introduction to Querying solution data using DuckDB\n",
    "[DuckDB](https://duckdb.org) DuckDB allows for very fast querying of a multitude of data sources. Parquet, CSV and Sqlite are supported and are heavily used by Energy Exemplar. DuckDb is available for both Windows and Linux and is pre-configured on our cloud agents when running simulations on the cloud. DuckDb performs much faster than than Pandas and does not put a heavy memory burden on workers when executing queries.\n",
    "DuckDB has a feature rich CLI, and great [Python API](https://duckdb.org/docs/stable/clients/python/overview.html)\n",
    "More information and examples here: [Why DuckDb](https://duckdb.org/why_duckdb.html)\n",
    "\n",
    "### Covered in this Example\n",
    "1. Python libraries, environment variables\n",
    "2. Creating \"default\" views to expose parquet data in subfolders\n",
    "3. Creating additional views to produce customized reports, writing to parquet and csv"
   ]
  },
  {
   "cell_type": "markdown",
   "id": "e755a5c7-3e3e-4ae7-8408-41dba0da6799",
   "metadata": {},
   "source": [
    "### Configure Python requirements and path variables. "
   ]
  },
  {
   "cell_type": "code",
   "execution_count": null,
   "id": "286b7c82-a1cc-4c90-a21e-fe3451367e73",
   "metadata": {},
   "outputs": [],
   "source": [
    "import os\n",
    "import time\n",
    "import duckdb\n",
    "import datetime\n",
    "\n",
    "parquet_root_path = \"~/SolutionData\"\n",
    "duck_db_path = \"./duck.ddb\"\n",
    "mapping_file_path = \".directorymapping.json\"\n",
    "\n",
    "today = datetime.date.today()\n",
    "date_string = today.strftime(\"%Y-%m-%d\")"
   ]
  },
  {
   "cell_type": "markdown",
   "id": "9206646d-577b-498f-af51-6f6f8145fedc",
   "metadata": {},
   "source": [
    "### Configure Default views to around parquet data\n",
    " - This can also be produced programatically as shown in [configure_duck.py](../../JupyterSamples/PreAndPostTasks/Scripts/configure_duck.py)"
   ]
  },
  {
   "cell_type": "code",
   "execution_count": null,
   "id": "13ed6ef4-c660-4aeb-a698-c6d2482af0cc",
   "metadata": {},
   "outputs": [],
   "source": [
    "try:\n",
    "    with duckdb.connect(duck_db_path) as con:\n",
    "        con.execute(f\"CREATE OR REPLACE VIEW aggregatedseries AS SELECT * FROM '{os.path.join(parquet_root_path, 'aggregatedseries', '**', '*.parquet')}';\")\n",
    "        con.execute(f\"CREATE OR REPLACE VIEW attribute AS SELECT * FROM '{os.path.join(parquet_root_path, 'attribute', '**', '*.parquet')}';\")\n",
    "        con.execute(f\"CREATE OR REPLACE VIEW attributedata AS SELECT * FROM '{os.path.join(parquet_root_path, 'attributedata', '**', '*.parquet')}';\")\n",
    "        con.execute(f\"CREATE OR REPLACE VIEW category AS SELECT * FROM '{os.path.join(parquet_root_path, 'category', '**', '*.parquet')}';\")\n",
    "        con.execute(f\"CREATE OR REPLACE VIEW class AS SELECT * FROM '{os.path.join(parquet_root_path, 'class', '**', '*.parquet')}';\")\n",
    "        con.execute(f\"CREATE OR REPLACE VIEW classgroup AS SELECT * FROM '{os.path.join(parquet_root_path, 'classgroup', '**', '*.parquet')}';\")\n",
    "        con.execute(f\"CREATE OR REPLACE VIEW collection AS SELECT * FROM '{os.path.join(parquet_root_path, 'collection', '**', '*.parquet')}';\")\n",
    "        con.execute(f\"CREATE OR REPLACE VIEW config AS SELECT * FROM '{os.path.join(parquet_root_path, 'config', '**', '*.parquet')}';\")\n",
    "        con.execute(f\"CREATE OR REPLACE VIEW customcolumn AS SELECT * FROM '{os.path.join(parquet_root_path, 'customcolumn', '**', '*.parquet')}';\")\n",
    "        con.execute(f\"CREATE OR REPLACE VIEW data AS SELECT * FROM '{os.path.join(parquet_root_path, 'data', '**', '*.parquet')}';\")\n",
    "        con.execute(f\"CREATE OR REPLACE VIEW fullkeyinfo AS SELECT * FROM '{os.path.join(parquet_root_path, 'fullkeyinfo', '**', '*.parquet')}';\")\n",
    "        con.execute(f\"CREATE OR REPLACE VIEW membershipinfo AS SELECT * FROM '{os.path.join(parquet_root_path, 'membershipinfo', '**', '*.parquet')}';\")\n",
    "        con.execute(f\"CREATE OR REPLACE VIEW memoobject AS SELECT * FROM '{os.path.join(parquet_root_path, 'memoobject', '**', '*.parquet')}';\")\n",
    "        con.execute(f\"CREATE OR REPLACE VIEW object AS SELECT * FROM '{os.path.join(parquet_root_path, 'object', '**', '*.parquet')}';\")\n",
    "        con.execute(f\"CREATE OR REPLACE VIEW objectmeta AS SELECT * FROM '{os.path.join(parquet_root_path, 'objectmeta', '**', '*.parquet')}';\")\n",
    "        con.execute(f\"CREATE OR REPLACE VIEW period AS SELECT * FROM '{os.path.join(parquet_root_path, 'period', '**', '*.parquet')}';\")\n",
    "        con.execute(f\"CREATE OR REPLACE VIEW phase AS SELECT * FROM '{os.path.join(parquet_root_path, 'phase', '**', '*.parquet')}';\")\n",
    "        con.execute(f\"CREATE OR REPLACE VIEW property AS SELECT * FROM '{os.path.join(parquet_root_path, 'property', '**', '*.parquet')}';\")\n",
    "        con.execute(f\"CREATE OR REPLACE VIEW sampleweight AS SELECT * FROM '{os.path.join(parquet_root_path, 'sampleweight', '**', '*.parquet')}';\")\n",
    "        con.execute(f\"CREATE OR REPLACE VIEW unit AS SELECT * FROM '{os.path.join(parquet_root_path, 'unit', '**', '*.parquet')}';\")\n",
    "\n",
    "    print(\"All views created\")\n",
    "except Exception as e: \n",
    "        print('Task failed with exception:')\n",
    "        print(e)\n",
    "finally:\n",
    "    print(\"done\")"
   ]
  },
  {
   "cell_type": "markdown",
   "id": "c32f6b7c-f5dc-4c62-9b95-5b9c9a5d4a43",
   "metadata": {},
   "source": [
    "### Configure some views, and start querying data to write to Parquet and CSV examples\n",
    "- This example is also shown in [query_data.py](../../JupyterSamples/PreAndPostTasks/Scripts/query_data.py)"
   ]
  },
  {
   "cell_type": "code",
   "execution_count": null,
   "id": "dde17235-106a-411f-b63d-fefcccd6495e",
   "metadata": {},
   "outputs": [],
   "source": [
    "def configure_views(con) -> None:\n",
    "    \"\"\"Configure all the base views to pull out specific reporting periods, phases and properties - this could be optimized to produce smaller files by limiting date ranges, regions, properties etc.\"\"\"\n",
    "    view_command = \"\"\"CREATE OR REPLACE VIEW regional_generation_capacity AS\n",
    "\tSELECT\n",
    "\t\tkey.*, \n",
    "\t\td.PeriodId, \n",
    "\t\td.Value, \n",
    "\tFROM fullkeyinfo AS key\n",
    "    INNER JOIN data d on d.SeriesId = key.SeriesId\n",
    "\tWHERE\n",
    "        key.PeriodTypeName = 'Interval' AND\n",
    "\t\tkey.PhaseName = 'ST' AND\n",
    "\t\tkey.ParentClassName = 'System' AND\n",
    "\t\tkey.ChildClassName = 'Generator' AND\n",
    "\t\tkey.PropertyName IN ('Generation', 'Available Capacity');\"\"\"\n",
    "\n",
    "    con.execute(view_command)\n",
    "    \n",
    "    view_command = \"\"\"CREATE OR REPLACE VIEW region_aggregate_totals AS\n",
    "    SELECT\n",
    "        PhaseName, BandId, PeriodTypeName, \n",
    "        ParentObjectCategoryName, ParentObjectName, ChildObjectCategoryName, \n",
    "        ParentClassName, CollectionName, ChildClassName, PropertyName, UnitValue, TimesliceName, ModelName, SampleId, SampleName, PeriodId,\n",
    "        SUM(Value) as TotalValue\n",
    "    FROM regional_generation_capacity ag \n",
    "    GROUP BY \n",
    "        PhaseName, BandId, PeriodTypeName, \n",
    "        ParentObjectCategoryName, ParentObjectName, ChildObjectCategoryName, \n",
    "        ParentClassName, CollectionName, ChildClassName, PropertyName, UnitValue, TimesliceName, ModelName, SampleId, SampleName, PeriodId;\"\"\"\n",
    "    \n",
    "    con.execute(view_command)\n",
    "    \n",
    "    view_command = \"\"\"CREATE OR REPLACE VIEW reporting_data AS\n",
    "    SELECT \n",
    "        t.PhaseName, t.BandId, t.PeriodTypeName, \n",
    "        t.ParentObjectCategoryName, t.ParentObjectName, t.ChildObjectCategoryName, \n",
    "        t.ParentClassName, t.CollectionName, t.ChildClassName, t.PropertyName, t.UnitValue, t.TimesliceName, t.ModelName, t.SampleId, t.SampleName, \n",
    "        p.StartDate, p.EndDate, current_localtimestamp() as SolutionDate, \n",
    "        t.TotalValue\n",
    "    FROM region_aggregate_totals t\n",
    "    INNER JOIN Period p on p.PeriodId = t.PeriodId;\"\"\"\n",
    "    \n",
    "    con.execute(view_command)\n",
    "\n",
    "def write_data(con, file_path: str, convert_csv: bool = False) -> None:\n",
    "    \"\"\"Persists properties to parquet, and optionally to csv\"\"\"\n",
    "    start_time = time.time()\n",
    "    query_command = f\"COPY (select * from reporting_data) TO '{file_path}' (FORMAT parquet, COMPRESSION zstd, ROW_GROUP_SIZE 100_000);\"\n",
    "    con.execute(query_command)\n",
    "    execution_time = time.time() - start_time\n",
    "    print(f\"{file_path} produced in: {execution_time} seconds\")\n",
    "    \n",
    "    if convert_csv:\n",
    "        start_time = time.time()\n",
    "        csv_path = file_path.replace(\".parquet\", \".csv\")\n",
    "        convert_command = f\"\"\"COPY (select * from '{file_path}') TO '{csv_path}' (DELIMITER ',');\"\"\"\n",
    "        con.execute(convert_command)\n",
    "        execution_time = time.time() - start_time\n",
    "        print(f\"{csv_path} produced in: {execution_time} seconds\")\n",
    "\n",
    "try:\n",
    "    output_path = \"./\"\n",
    "    with duckdb.connect(duck_db_path) as con:\n",
    "        start_time = time.time()           \n",
    "        configure_views(con)\n",
    "        region_file_path = os.path.join(output_path, f\"solution_data.parquet\")\n",
    "        write_data(con, region_file_path, convert_csv = True)\n",
    "\n",
    "        execution_time = time.time() - start_time\n",
    "        print(f\"Complete execution took: {execution_time} seconds\")\n",
    "\n",
    "except Exception as e: \n",
    "    print('Task failed with exception:')\n",
    "    print(e)\n",
    "finally:\n",
    "    print(\"done\")\n",
    "    "
   ]
  },
  {
   "cell_type": "code",
   "execution_count": null,
   "id": "16143141-17d0-4b64-ae8b-8af57ceebf40",
   "metadata": {},
   "outputs": [],
   "source": []
  }
 ],
 "metadata": {
  "kernelspec": {
   "display_name": "Python 3 (ipykernel)",
   "language": "python",
   "name": "python3"
  },
  "language_info": {
   "codemirror_mode": {
    "name": "ipython",
    "version": 3
   },
   "file_extension": ".py",
   "mimetype": "text/x-python",
   "name": "python",
   "nbconvert_exporter": "python",
   "pygments_lexer": "ipython3",
   "version": "3.12.6"
  }
 },
 "nbformat": 4,
 "nbformat_minor": 5
}
